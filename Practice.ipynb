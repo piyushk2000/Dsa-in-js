{
 "cells": [
  {
   "cell_type": "code",
   "execution_count": 1,
   "metadata": {},
   "outputs": [
    {
     "name": "stdout",
     "output_type": "stream",
     "text": [
      "[1, 2]\n"
     ]
    }
   ],
   "source": [
    "from typing import List\n",
    "# # Two sum\n",
    "class Solution:\n",
    "    def twoSum(self, nums: List[int], target: int) -> List[int]:\n",
    "        obj = {}\n",
    "\n",
    "        for i in range (0,len(nums)):\n",
    "            x = target - nums[i]\n",
    "            if x in obj:\n",
    "                return [obj[x] , i]\n",
    "            obj[nums[i]] = i \n",
    "\n",
    "a = Solution()\n",
    "\n",
    "print(a.twoSum([1,2,3,4,5], 5))"
   ]
  },
  {
   "cell_type": "code",
   "execution_count": 2,
   "metadata": {},
   "outputs": [
    {
     "data": {
      "text/plain": [
       "[['bat'], ['eat', 'tea', 'ate'], ['tan', 'nat']]"
      ]
     },
     "execution_count": 2,
     "metadata": {},
     "output_type": "execute_result"
    }
   ],
   "source": [
    "from typing import List\n",
    "class Solution:\n",
    "    def groupAnagrams(self, strs: List[str]) -> List[List[str]]:\n",
    "        obj = {}\n",
    "        indexCounter = 0\n",
    "        newArr = []\n",
    "        for i in strs:\n",
    "            sortedStr = ''.join(sorted(i))\n",
    "            if(sortedStr in obj):\n",
    "                newArr[(obj[sortedStr])].append(i)\n",
    "            else:\n",
    "                obj[sortedStr] = indexCounter\n",
    "                indexCounter = indexCounter+1\n",
    "                newArr.append([i])\n",
    "        return sorted(newArr)\n",
    "\n",
    "\n",
    "\n",
    "\n",
    "\n",
    "        \n",
    "c1 = Solution()\n",
    "li = [\"eat\",\"tea\",\"tan\",\"ate\",\"nat\",\"bat\"]\n",
    "c1.groupAnagrams(li)\n",
    "# [[\"bat\"],[\"nat\",\"tan\"],[\"ate\",\"eat\",\"tea\"]]"
   ]
  },
  {
   "cell_type": "code",
   "execution_count": 33,
   "metadata": {},
   "outputs": [
    {
     "name": "stdout",
     "output_type": "stream",
     "text": [
      "[3, 4]\n"
     ]
    }
   ],
   "source": [
    "from typing import List\n",
    "class Solution:\n",
    "    def topKFrequent(self, nums: List[int], k: int) -> List[int]:\n",
    "        obj = {}\n",
    "\n",
    "        for i in nums:\n",
    "            if i in obj:\n",
    "                obj[i] = obj.get(i, False)+1\n",
    "            else:\n",
    "                obj[i] = 1\n",
    "        newArr = [[] for i in range (len((nums)))]\n",
    "\n",
    "        for key,val in obj.items():\n",
    "            newArr[val].append(key)\n",
    "        finalArr = []\n",
    "        for i in range(len(newArr)-1,0, -1):\n",
    "            for ele in newArr[i]:\n",
    "                if(k-1<len(finalArr)):\n",
    "                    return finalArr\n",
    "                else:\n",
    "                    finalArr.append(ele)\n",
    "\n",
    "        return finalArr\n",
    "ch1 = Solution()\n",
    "print(ch1.topKFrequent([1,2,2,3,3,3,3,3,3,4,4,4],2))\n"
   ]
  },
  {
   "cell_type": "code",
   "execution_count": 4,
   "metadata": {},
   "outputs": [
    {
     "name": "stdout",
     "output_type": "stream",
     "text": [
      "1 1\n",
      "2 2\n",
      "3 1\n",
      "4 3\n"
     ]
    }
   ],
   "source": [
    "obj = {}\n",
    "\n",
    "for i in [1,2,2,3,4,4,4]:\n",
    "    obj[i] = obj.get(i, False)+1 or 1\n",
    "\n",
    "for x,y in obj.items():\n",
    "    print (x,y)"
   ]
  },
  {
   "cell_type": "code",
   "execution_count": null,
   "metadata": {},
   "outputs": [],
   "source": [
    "class Solution:\n",
    "\n",
    "    def encode(self, strs: List[str]) -> str:\n",
    "        for s in List:\n",
    "            newStr = len(s)+'#'+s\n",
    "        return str\n",
    "    def decode(self, s: str) -> List[str]:\n"
   ]
  }
 ],
 "metadata": {
  "kernelspec": {
   "display_name": "Python 3",
   "language": "python",
   "name": "python3"
  },
  "language_info": {
   "codemirror_mode": {
    "name": "ipython",
    "version": 3
   },
   "file_extension": ".py",
   "mimetype": "text/x-python",
   "name": "python",
   "nbconvert_exporter": "python",
   "pygments_lexer": "ipython3",
   "version": "3.12.4"
  }
 },
 "nbformat": 4,
 "nbformat_minor": 2
}
